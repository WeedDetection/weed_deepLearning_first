{
  "nbformat": 4,
  "nbformat_minor": 0,
  "metadata": {
    "colab": {
      "name": "weed_deepLearning.ipynb",
      "provenance": []
    },
    "kernelspec": {
      "name": "python3",
      "display_name": "Python 3"
    },
    "language_info": {
      "name": "python"
    }
  },
  "cells": [
    {
      "cell_type": "code",
      "metadata": {
        "id": "qzuWtHR5l9-i"
      },
      "source": [
        "!pip install -q kaggle\n",
        "!pip install detecto"
      ],
      "execution_count": null,
      "outputs": []
    },
    {
      "cell_type": "code",
      "metadata": {
        "id": "AE3f27ZKmT33"
      },
      "source": [
        "from google.colab import files\n",
        "files.upload()"
      ],
      "execution_count": null,
      "outputs": []
    },
    {
      "cell_type": "code",
      "metadata": {
        "id": "5xmrPU2xmX5b"
      },
      "source": [
        "! kaggle datasets list"
      ],
      "execution_count": null,
      "outputs": []
    },
    {
      "cell_type": "code",
      "metadata": {
        "id": "o0KMVLh3maKz"
      },
      "source": [
        "! cp kaggle.json ~/.kaggle/"
      ],
      "execution_count": null,
      "outputs": []
    },
    {
      "cell_type": "code",
      "metadata": {
        "id": "2RDsuzjHmd1f"
      },
      "source": [
        "! chmod 600 ~/.kaggle/kaggle.json"
      ],
      "execution_count": null,
      "outputs": []
    },
    {
      "cell_type": "code",
      "metadata": {
        "id": "HJmijvPemeyU"
      },
      "source": [
        "!kaggle datasets download -d wangyongkun/sugarbeetsandweeds"
      ],
      "execution_count": null,
      "outputs": []
    },
    {
      "cell_type": "code",
      "metadata": {
        "id": "hmNNOB8dmhRr"
      },
      "source": [
        "!unzip /content/sugarbeetsandweeds.zip -d sugarbeetandweeds"
      ],
      "execution_count": null,
      "outputs": []
    },
    {
      "cell_type": "code",
      "metadata": {
        "id": "PTG5rXrhmmzz"
      },
      "source": [
        "from detecto.core import (Model, Dataset, DataLoader)\n",
        "import matplotlib.pyplot as plt\n",
        "from detecto.utils import read_image\n",
        "from detecto.visualize import plot_prediction_grid\n",
        "import cv2\n",
        "import os"
      ],
      "execution_count": null,
      "outputs": []
    },
    {
      "cell_type": "code",
      "metadata": {
        "id": "V8fKePXCmvU2"
      },
      "source": [
        "img_example = cv2.imread('/content/sugarbeetandweeds/data/train/image/X-150-0.png')\n",
        "plt.imshow(img_example)\n",
        "plt.show()"
      ],
      "execution_count": null,
      "outputs": []
    },
    {
      "cell_type": "code",
      "metadata": {
        "id": "hz6hqDcImy7h"
      },
      "source": [
        "dataset = Dataset('/content/sugarbeetandweeds/data/train/annotation','/content/sugarbeetandweeds/data/train/image')\n",
        "val = Dataset('/content/sugarbeetandweeds/data/val/annotation', '/content/sugarbeetandweeds/data/val/image')\n",
        "loader = DataLoader(dataset=dataset, batch_size = 2)\n",
        "your_labels = ['sugarbeet', 'weed']\n",
        "model1 = Model(your_labels)"
      ],
      "execution_count": null,
      "outputs": []
    },
    {
      "cell_type": "code",
      "metadata": {
        "id": "6h8Oitb1m0XH"
      },
      "source": [
        "losses = model1.fit(loader, val, epochs=120, learning_rate=0.001, verbose=True)"
      ],
      "execution_count": null,
      "outputs": []
    },
    {
      "cell_type": "code",
      "metadata": {
        "id": "HqDC861Rm5AZ"
      },
      "source": [
        "plt.plot(losses)\n",
        "plt.show()"
      ],
      "execution_count": null,
      "outputs": []
    },
    {
      "cell_type": "code",
      "metadata": {
        "id": "RiC5qsOTm6GJ"
      },
      "source": [
        "image1 = read_image('/content/sugarbeetandweeds/data/val/image/X3-130-1.png')\n",
        "image2 = read_image('/content/sugarbeetandweeds/data/val/image/X-270-1.png')\n",
        "image3 = read_image('/content/sugarbeetandweeds/data/val/image/X2-30-1.png')"
      ],
      "execution_count": null,
      "outputs": []
    },
    {
      "cell_type": "code",
      "metadata": {
        "id": "I1RF1EdAm8Vv"
      },
      "source": [
        "images = [image1, image2, image3]\n",
        "plot_prediction_grid(model1, images, figsize=(10, 23))"
      ],
      "execution_count": null,
      "outputs": []
    },
    {
      "cell_type": "code",
      "metadata": {
        "id": "2nvoQg9nnBo5"
      },
      "source": [
        "model1.save('model1.pth')"
      ],
      "execution_count": null,
      "outputs": []
    }
  ]
}